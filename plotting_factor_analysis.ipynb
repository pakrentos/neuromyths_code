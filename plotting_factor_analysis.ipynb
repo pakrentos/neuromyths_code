{
 "cells": [
  {
   "cell_type": "code",
   "execution_count": 1,
   "metadata": {
    "collapsed": true
   },
   "outputs": [],
   "source": [
    "import pandas as pd\n",
    "import numpy as np\n",
    "import seaborn as sns\n",
    "import matplotlib.pyplot as plt\n",
    "from IPython.display import display as disp\n",
    "from statannot import add_stat_annotation\n",
    "from itertools import product\n",
    "import matplotlib\n",
    "matplotlib.rcParams['pdf.fonttype'] = 42"
   ]
  },
  {
   "cell_type": "code",
   "execution_count": null,
   "outputs": [],
   "source": [
    "fdir = \"data/data_processed/stat_results\"\n",
    "\n",
    "cor_int_f = 'Correct~Interest'\n",
    "uns_int_f = 'Unsure~Interest'\n",
    "\n",
    "cor_rel_f = 'Correct~Reliable.source'\n",
    "uns_rel_f = 'Unsure~Reliable.source'\n",
    "fs = [cor_int_f, uns_int_f, cor_rel_f, uns_rel_f]\n",
    "\n",
    "prefix = \"GR-Question\"\n",
    "gr_ed = f'{prefix}-Education'\n",
    "gr_spec = f'{prefix}-Specialization'\n",
    "# gr_ed_spec = f'{prefix}-Education-Specialization'\n",
    "grs = [gr_ed, gr_spec, gr_ed_spec]\n",
    "\n",
    "for f in fs:\n",
    "    for gr in grs:\n",
    "        fname = f\"{fdir}/{f}_{gr}@OUTLIERS_REMOVED@1.1.csv\"\n",
    "        df = pd.read_csv(fname).query(\"`p.adj.signif` != 'ns' and n1 > 20 and n2 > 20\")\n",
    "        columns = df.columns[:3] if df.columns[3] == '.y.' else df.columns[:2]\n",
    "        columns = columns.to_list()\n",
    "        columns += ['group1', 'group2', 'n1', 'n2', 'p.adj']\n",
    "        df = df[columns]\n",
    "        if len(df) > 0:\n",
    "            print(f'{f}  {gr}')\n",
    "            disp(df)"
   ],
   "metadata": {
    "collapsed": false
   }
  },
  {
   "cell_type": "code",
   "execution_count": 92,
   "outputs": [
    {
     "data": {
      "text/plain": "  Specialization Question      .y.  group1 group2   n1   n2  statistic  \\\n0            C&B    Facts  Correct  Female   Male  129   42     2381.5   \n1         P&M&IT    Facts  Correct  Female   Male   81  104     4202.5   \n2       Pedagogy    Facts  Correct  Female   Male  317   64     8152.5   \n3     Psychology    Facts  Correct  Female   Male  195   22     1414.0   \n4            C&B    Myths  Correct  Female   Male  129   42     2349.0   \n\n         p    p.adj p.adj.signif  y.position               groups  \n0  0.23700  0.78000           ns        1.09  c(\"Female\", \"Male\")  \n1  0.98000  0.98000           ns        1.09  c(\"Female\", \"Male\")  \n2  0.01280  0.08960           ns        1.09  c(\"Female\", \"Male\")  \n3  0.00856  0.06848           ns        1.09  c(\"Female\", \"Male\")  \n4  0.19500  0.78000           ns        0.89  c(\"Female\", \"Male\")  ",
      "text/html": "<div>\n<style scoped>\n    .dataframe tbody tr th:only-of-type {\n        vertical-align: middle;\n    }\n\n    .dataframe tbody tr th {\n        vertical-align: top;\n    }\n\n    .dataframe thead th {\n        text-align: right;\n    }\n</style>\n<table border=\"1\" class=\"dataframe\">\n  <thead>\n    <tr style=\"text-align: right;\">\n      <th></th>\n      <th>Specialization</th>\n      <th>Question</th>\n      <th>.y.</th>\n      <th>group1</th>\n      <th>group2</th>\n      <th>n1</th>\n      <th>n2</th>\n      <th>statistic</th>\n      <th>p</th>\n      <th>p.adj</th>\n      <th>p.adj.signif</th>\n      <th>y.position</th>\n      <th>groups</th>\n    </tr>\n  </thead>\n  <tbody>\n    <tr>\n      <th>0</th>\n      <td>C&amp;B</td>\n      <td>Facts</td>\n      <td>Correct</td>\n      <td>Female</td>\n      <td>Male</td>\n      <td>129</td>\n      <td>42</td>\n      <td>2381.5</td>\n      <td>0.23700</td>\n      <td>0.78000</td>\n      <td>ns</td>\n      <td>1.09</td>\n      <td>c(\"Female\", \"Male\")</td>\n    </tr>\n    <tr>\n      <th>1</th>\n      <td>P&amp;M&amp;IT</td>\n      <td>Facts</td>\n      <td>Correct</td>\n      <td>Female</td>\n      <td>Male</td>\n      <td>81</td>\n      <td>104</td>\n      <td>4202.5</td>\n      <td>0.98000</td>\n      <td>0.98000</td>\n      <td>ns</td>\n      <td>1.09</td>\n      <td>c(\"Female\", \"Male\")</td>\n    </tr>\n    <tr>\n      <th>2</th>\n      <td>Pedagogy</td>\n      <td>Facts</td>\n      <td>Correct</td>\n      <td>Female</td>\n      <td>Male</td>\n      <td>317</td>\n      <td>64</td>\n      <td>8152.5</td>\n      <td>0.01280</td>\n      <td>0.08960</td>\n      <td>ns</td>\n      <td>1.09</td>\n      <td>c(\"Female\", \"Male\")</td>\n    </tr>\n    <tr>\n      <th>3</th>\n      <td>Psychology</td>\n      <td>Facts</td>\n      <td>Correct</td>\n      <td>Female</td>\n      <td>Male</td>\n      <td>195</td>\n      <td>22</td>\n      <td>1414.0</td>\n      <td>0.00856</td>\n      <td>0.06848</td>\n      <td>ns</td>\n      <td>1.09</td>\n      <td>c(\"Female\", \"Male\")</td>\n    </tr>\n    <tr>\n      <th>4</th>\n      <td>C&amp;B</td>\n      <td>Myths</td>\n      <td>Correct</td>\n      <td>Female</td>\n      <td>Male</td>\n      <td>129</td>\n      <td>42</td>\n      <td>2349.0</td>\n      <td>0.19500</td>\n      <td>0.78000</td>\n      <td>ns</td>\n      <td>0.89</td>\n      <td>c(\"Female\", \"Male\")</td>\n    </tr>\n  </tbody>\n</table>\n</div>"
     },
     "execution_count": 92,
     "metadata": {},
     "output_type": "execute_result"
    }
   ],
   "source": [
    "df_all = pd.read_csv(\"data/data_processed/NEUROMYTHS_ALL_LABELS@1.1.csv\")\n",
    "df_all = pd.read_csv(\"data/data_processed/stat_results/Correct~Gender_GR-Question-Specialization@OUTLIERS_REMOVED@1.1.csv\")\n",
    "df_all.head()\n",
    "# df_all['Specialization'].unique().tolist()"
   ],
   "metadata": {
    "collapsed": false
   }
  },
  {
   "cell_type": "code",
   "execution_count": 98,
   "outputs": [
    {
     "data": {
      "text/plain": "[['Female', 'Male', 0.78],\n ['Female', 'Male', 0.98],\n ['Female', 'Male', 0.0896],\n ['Female', 'Male', 0.06848]]"
     },
     "execution_count": 98,
     "metadata": {},
     "output_type": "execute_result"
    }
   ],
   "source": [
    "# temp: pd.Series = df_all\\\n",
    "#     .query(\"Education == 'Intermediate' and Specialization == 'Pedagogy'\")\\\n",
    "#     .apply(pd.unique)\\\n",
    "#     .apply(lambda x: x[0] if len(x) == 1 else None) \\\n",
    "#     .dropna()\n",
    "#\n",
    "# temp.to_dict()\n",
    "df = df_all.query('`Question` == \"Facts\"')\n",
    "dup_cols = df.apply(pd.unique) \\\n",
    "    .apply(lambda x: x[0] if len(x) == 1 else None) \\\n",
    "    .dropna()\\\n",
    "    .index\\\n",
    "    .to_list()\n",
    "cut = df.columns.to_list().index('.y.')\n",
    "columns_id = df.columns[:cut].to_list()\n",
    "columns_id = [i for i in columns_id if i not in dup_cols]\n",
    "columns = columns_id + ['group1', 'group2', 'p.adj']\n",
    "df: pd.DataFrame = df[columns].set_index(columns_id)\n",
    "df.values.tolist()\n",
    "df.index"
   ],
   "metadata": {
    "collapsed": false
   }
  },
  {
   "cell_type": "markdown",
   "source": [
    "```python\n",
    "add_stat_annotation(ax, data=df, x=x, y=y, order=order,\n",
    "                    box_pairs=[(\"Sun\", \"Thur\"), (\"Sun\", \"Sat\"), (\"Fri\", \"Sun\")],\n",
    "                    perform_stat_test=False, pvalues=[0.1, 0.1, 0.001],\n",
    "                    test=None, text_format='star', loc='inside', verbose=2);\n",
    "\n",
    "x = \"color\"\n",
    "y = \"price\"\n",
    "hue = \"cut\"\n",
    "hue_order=['Ideal', 'Premium', 'Good', 'Very Good', 'Fair']\n",
    "box_pairs=[\n",
    "    ((\"E\", \"Ideal\"), (\"E\", \"Very Good\")),\n",
    "    ((\"E\", \"Ideal\"), (\"E\", \"Premium\")),\n",
    "    ((\"E\", \"Ideal\"), (\"E\", \"Good\")),\n",
    "    ((\"I\", \"Ideal\"), (\"I\", \"Premium\")),\n",
    "    ((\"I\", \"Ideal\"), (\"I\", \"Good\")),\n",
    "    ((\"J\", \"Ideal\"), (\"J\", \"Premium\")),\n",
    "    ((\"J\", \"Ideal\"), (\"J\", \"Good\")),\n",
    "    ((\"E\", \"Good\"), (\"I\", \"Ideal\")),\n",
    "    ((\"I\", \"Premium\"), (\"J\", \"Ideal\")),\n",
    "]\n",
    "ax = sns.boxplot(data=df, x=x, y=y, hue=hue,)\n",
    "add_stat_annotation(ax, data=df, x=x, y=y, hue=hue, box_pairs=box_pairs,\n",
    "                    test='Mann-Whitney', loc='inside', verbose=2)\n",
    "plt.legend(loc='upper left', bbox_to_anchor=(1.03, 1))\n",
    "plt.savefig('example_hue_layout.png', dpi=300, bbox_inches='tight')\n",
    "```"
   ],
   "metadata": {
    "collapsed": false
   }
  },
  {
   "cell_type": "code",
   "execution_count": 9,
   "outputs": [
    {
     "data": {
      "text/plain": "  Question     .y. group1 group2   n1   n2  statistic         p     p.adj  \\\n0    Facts  Unsure     No    Yes  731  223      94402  0.000309  0.000618   \n1    Myths  Unsure     No    Yes  731  223      94210  0.000394  0.000618   \n\n  p.adj.signif  y.position          groups  \n0          ***      0.8325  c(\"No\", \"Yes\")  \n1          ***      0.9125  c(\"No\", \"Yes\")  ",
      "text/html": "<div>\n<style scoped>\n    .dataframe tbody tr th:only-of-type {\n        vertical-align: middle;\n    }\n\n    .dataframe tbody tr th {\n        vertical-align: top;\n    }\n\n    .dataframe thead th {\n        text-align: right;\n    }\n</style>\n<table border=\"1\" class=\"dataframe\">\n  <thead>\n    <tr style=\"text-align: right;\">\n      <th></th>\n      <th>Question</th>\n      <th>.y.</th>\n      <th>group1</th>\n      <th>group2</th>\n      <th>n1</th>\n      <th>n2</th>\n      <th>statistic</th>\n      <th>p</th>\n      <th>p.adj</th>\n      <th>p.adj.signif</th>\n      <th>y.position</th>\n      <th>groups</th>\n    </tr>\n  </thead>\n  <tbody>\n    <tr>\n      <th>0</th>\n      <td>Facts</td>\n      <td>Unsure</td>\n      <td>No</td>\n      <td>Yes</td>\n      <td>731</td>\n      <td>223</td>\n      <td>94402</td>\n      <td>0.000309</td>\n      <td>0.000618</td>\n      <td>***</td>\n      <td>0.8325</td>\n      <td>c(\"No\", \"Yes\")</td>\n    </tr>\n    <tr>\n      <th>1</th>\n      <td>Myths</td>\n      <td>Unsure</td>\n      <td>No</td>\n      <td>Yes</td>\n      <td>731</td>\n      <td>223</td>\n      <td>94210</td>\n      <td>0.000394</td>\n      <td>0.000618</td>\n      <td>***</td>\n      <td>0.9125</td>\n      <td>c(\"No\", \"Yes\")</td>\n    </tr>\n  </tbody>\n</table>\n</div>"
     },
     "metadata": {},
     "output_type": "display_data"
    },
    {
     "data": {
      "text/plain": "<Figure size 240x480 with 2 Axes>",
      "image/png": "[encoded data removed]"
     },
     "metadata": {},
     "output_type": "display_data"
    }
   ],
   "source": [
    "def read_stat(fname: str) -> pd.DataFrame:\n",
    "    df = pd.read_csv(fname).query(\"`p.adj.signif` != 'ns' and n1 > 20 and n2 > 20\")\n",
    "    # cut = df.columns.to_list().index('.y.')\n",
    "    # columns = df.columns[:cut].to_list()\n",
    "    # columns += ['group1', 'group2', 'n1', 'n2', 'p.adj']\n",
    "    # df = df[columns]\n",
    "    return df\n",
    "\n",
    "def extract_pairs_pvals(data: pd.DataFrame, dup_cols) -> dict:\n",
    "    # dup_cols = data.apply(pd.unique) \\\n",
    "    #     .apply(lambda x: x[0] if len(x) == 1 else None) \\\n",
    "    #     .dropna() \\\n",
    "    #     .index \\\n",
    "    #     .to_list()\n",
    "    cut = data.columns.to_list().index('.y.')\n",
    "    columns_id = data.columns[:cut].to_list()\n",
    "    columns_id = [i for i in columns_id if i not in dup_cols]\n",
    "    columns = columns_id + ['group1', 'group2', 'p.adj']\n",
    "    try:\n",
    "        new_data: pd.DataFrame = data[columns].set_index(columns_id)\n",
    "        vals = list(zip(new_data.index, new_data.values.tolist()))\n",
    "    except ValueError:\n",
    "        vals = list(data[['group1', 'group2', 'p.adj']].values.tolist())\n",
    "    return vals\n",
    "\n",
    "def extract_label_query(data: pd.DataFrame) -> str:\n",
    "    temp = data.apply(pd.unique) \\\n",
    "        .apply(lambda x: x[0] if len(x) == 1 else None)\\\n",
    "        .dropna()\\\n",
    "        .to_dict()\n",
    "    query_str = ''\n",
    "    for k, v in temp.items():\n",
    "        query_str += f\"`{k}` == '{v}' and\"\n",
    "    query_str = query_str[:-3] if len(query_str) > 0 else query_str\n",
    "    return query_str\n",
    "\n",
    "def annot(data, **kws):\n",
    "    ax = plt.gca()\n",
    "    fname = kws['fname']\n",
    "    stat = read_stat(fname)\n",
    "    query_str = extract_label_query(data)\n",
    "    stat = stat.query(query_str)\n",
    "    if len(stat) == 0:\n",
    "        return\n",
    "    dup_cols = [kws.get('col'), kws.get('row')]\n",
    "    stat = extract_pairs_pvals(stat, dup_cols)\n",
    "    if len(stat[0]) == 2:\n",
    "        box_pairs = [((i[1][0], i[0]), (i[1][1], i[0])) for i in stat]\n",
    "        pvals = [v[1][-1] for v in stat]\n",
    "    else:\n",
    "        box_pairs = [(i[0], i[1]) for i in stat]\n",
    "        pvals = [v[-1] for v in stat]\n",
    "\n",
    "    if kws.get('hue') is not None and kws.get('hue_order') is None:\n",
    "        kws['hue_order'] = data[kws['hue']].unique().tolist()\n",
    "        # box_pairs = list(product(box_pairs, kws['hue_order']))\n",
    "    # elif kws.get('hue') is not None:\n",
    "    #     box_pairs = list(product(box_pairs, kws['hue_order']))\n",
    "\n",
    "    default_params = {\n",
    "        'perform_stat_test': False,\n",
    "        'pvalues': pvals,\n",
    "        'test': None,\n",
    "        'text_format': 'full',\n",
    "        'loc': 'inside',\n",
    "        'verbose': 0,\n",
    "        'box_pairs': box_pairs\n",
    "    }\n",
    "    default_params.update(kws)\n",
    "    del_params = ['row', 'dodge', 'kind', 'fname', 'col', 'height', 'aspect', 'margin_titles']\n",
    "    for del_param in del_params:\n",
    "        try:\n",
    "            default_params.pop(del_param)\n",
    "        except KeyError:\n",
    "            pass\n",
    "    add_stat_annotation(ax, data=data, **default_params);\n",
    "\n",
    "\n",
    "\n",
    "df_all = pd.read_csv(\"data/data_processed/NEUROMYTHS_ALL_LABELS@1.1.csv\")\n",
    "\n",
    "font = {\n",
    "    'pdf.fonttype': 42,\n",
    "    \"text.usetex\": False,\n",
    "    'font.family' : 'normal',\n",
    "    # 'weight' : 'normal',\n",
    "    'font.size'   : 14,\n",
    "    # 'figure.figsize': (11.7,8.27)\n",
    "}\n",
    "\n",
    "plt.rcParams.update(font)\n",
    "# sns.set(rc={'figure.figsize':(11.7,8.27)})\n",
    "denom = 1.5\n",
    "height = 5/denom\n",
    "width = 5/denom\n",
    "params = {\n",
    "    \"x\":'Reliable.source',\n",
    "    \"y\":'Unsure',\n",
    "    # \"col\":'Specialization',\n",
    "    # 'hue':'Education',\n",
    "    # \"col\":'Specialization',\n",
    "    \"row\": 'Question',\n",
    "    \"data\":df_all,\n",
    "    \"kind\":'box',\n",
    "    \"dodge\":0.02,\n",
    "    'height': height,\n",
    "    'aspect': width/height,\n",
    "    'margin_titles': True,\n",
    "}\n",
    "# fig = plt.figure(figsize=(11.7/denom, 8.27/denom))\n",
    "\n",
    "g: sns.axisgrid.FacetGrid = sns.catplot(**params)\n",
    "[plt.setp(ax.get_xticklabels(), size=14) for ax in g.axes.flat]\n",
    "\n",
    "fdir = \"data/data_processed/stat_results\"\n",
    "f= f'{params[\"y\"]}~{params[\"x\"]}'\n",
    "prefix = \"GR-Question\"\n",
    "gr= f'{prefix}'\n",
    "fname = f\"{fdir}/{f}_{gr}@OUTLIERS_REMOVED@1.1.csv\"\n",
    "\n",
    "params['fname'] = fname\n",
    "g.map_dataframe(annot, **params)\n",
    "g.set_titles(col_template=\"{col_name}\", row_template=\"Questions = {row_name}\")\n",
    "df = pd.read_csv(fname)\n",
    "# disp(read_stat(fname))\n",
    "disp(df)\n",
    "g.savefig(f'plots/{f}_{gr}@OUTLIERS_REMOVED@1.1.pdf')"
   ],
   "metadata": {
    "collapsed": false
   }
  },
  {
   "cell_type": "code",
   "execution_count": 21,
   "outputs": [
    {
     "data": {
      "text/plain": "       Education Specialization Question      .y. group1 group2   n1  n2  \\\n0   Intermediate            C&B    Facts  Correct     No    Yes   89  33   \n1   Intermediate         P&M&IT    Facts  Correct     No    Yes   61  22   \n2   Intermediate       Pedagogy    Facts  Correct     No    Yes  158  32   \n3   Intermediate     Psychology    Facts  Correct     No    Yes  105  24   \n4         Senior            C&B    Facts  Correct     No    Yes   35  14   \n5         Senior         P&M&IT    Facts  Correct     No    Yes   66  36   \n6         Senior       Pedagogy    Facts  Correct     No    Yes  148  43   \n7         Senior     Psychology    Facts  Correct     No    Yes   69  19   \n8   Intermediate            C&B    Myths  Correct     No    Yes   89  33   \n9   Intermediate         P&M&IT    Myths  Correct     No    Yes   61  22   \n10  Intermediate       Pedagogy    Myths  Correct     No    Yes  158  32   \n11  Intermediate     Psychology    Myths  Correct     No    Yes  105  24   \n12        Senior            C&B    Myths  Correct     No    Yes   35  14   \n13        Senior         P&M&IT    Myths  Correct     No    Yes   66  36   \n14        Senior       Pedagogy    Myths  Correct     No    Yes  148  43   \n15        Senior     Psychology    Myths  Correct     No    Yes   69  19   \n\n    statistic       p   p.adj p.adj.signif  y.position          groups  \n0      1381.0  0.6130  1.0000           ns        1.11  c(\"No\", \"Yes\")  \n1       484.5  0.0534  0.8010           ns        1.11  c(\"No\", \"Yes\")  \n2      2071.0  0.1060  1.0000           ns        1.11  c(\"No\", \"Yes\")  \n3      1061.5  0.2280  1.0000           ns        1.11  c(\"No\", \"Yes\")  \n4       231.0  0.7630  1.0000           ns        1.01  c(\"No\", \"Yes\")  \n5       973.5  0.1320  1.0000           ns        1.11  c(\"No\", \"Yes\")  \n6      2749.0  0.1730  1.0000           ns        1.11  c(\"No\", \"Yes\")  \n7       571.5  0.3940  1.0000           ns        1.11  c(\"No\", \"Yes\")  \n8      1279.5  0.2750  1.0000           ns        0.87  c(\"No\", \"Yes\")  \n9       740.0  0.4770  1.0000           ns        0.83  c(\"No\", \"Yes\")  \n10     2312.5  0.4460  1.0000           ns        0.75  c(\"No\", \"Yes\")  \n11     1288.5  0.8650  1.0000           ns        1.11  c(\"No\", \"Yes\")  \n12      240.5  0.9290  1.0000           ns        0.91  c(\"No\", \"Yes\")  \n13     1314.0  0.3750  1.0000           ns        0.83  c(\"No\", \"Yes\")  \n14     3029.0  0.6310  1.0000           ns        0.83  c(\"No\", \"Yes\")  \n15      408.0  0.0118  0.1888           ns        0.79  c(\"No\", \"Yes\")  ",
      "text/html": "<div>\n<style scoped>\n    .dataframe tbody tr th:only-of-type {\n        vertical-align: middle;\n    }\n\n    .dataframe tbody tr th {\n        vertical-align: top;\n    }\n\n    .dataframe thead th {\n        text-align: right;\n    }\n</style>\n<table border=\"1\" class=\"dataframe\">\n  <thead>\n    <tr style=\"text-align: right;\">\n      <th></th>\n      <th>Education</th>\n      <th>Specialization</th>\n      <th>Question</th>\n      <th>.y.</th>\n      <th>group1</th>\n      <th>group2</th>\n      <th>n1</th>\n      <th>n2</th>\n      <th>statistic</th>\n      <th>p</th>\n      <th>p.adj</th>\n      <th>p.adj.signif</th>\n      <th>y.position</th>\n      <th>groups</th>\n    </tr>\n  </thead>\n  <tbody>\n    <tr>\n      <th>0</th>\n      <td>Intermediate</td>\n      <td>C&amp;B</td>\n      <td>Facts</td>\n      <td>Correct</td>\n      <td>No</td>\n      <td>Yes</td>\n      <td>89</td>\n      <td>33</td>\n      <td>1381.0</td>\n      <td>0.6130</td>\n      <td>1.0000</td>\n      <td>ns</td>\n      <td>1.11</td>\n      <td>c(\"No\", \"Yes\")</td>\n    </tr>\n    <tr>\n      <th>1</th>\n      <td>Intermediate</td>\n      <td>P&amp;M&amp;IT</td>\n      <td>Facts</td>\n      <td>Correct</td>\n      <td>No</td>\n      <td>Yes</td>\n      <td>61</td>\n      <td>22</td>\n      <td>484.5</td>\n      <td>0.0534</td>\n      <td>0.8010</td>\n      <td>ns</td>\n      <td>1.11</td>\n      <td>c(\"No\", \"Yes\")</td>\n    </tr>\n    <tr>\n      <th>2</th>\n      <td>Intermediate</td>\n      <td>Pedagogy</td>\n      <td>Facts</td>\n      <td>Correct</td>\n      <td>No</td>\n      <td>Yes</td>\n      <td>158</td>\n      <td>32</td>\n      <td>2071.0</td>\n      <td>0.1060</td>\n      <td>1.0000</td>\n      <td>ns</td>\n      <td>1.11</td>\n      <td>c(\"No\", \"Yes\")</td>\n    </tr>\n    <tr>\n      <th>3</th>\n      <td>Intermediate</td>\n      <td>Psychology</td>\n      <td>Facts</td>\n      <td>Correct</td>\n      <td>No</td>\n      <td>Yes</td>\n      <td>105</td>\n      <td>24</td>\n      <td>1061.5</td>\n      <td>0.2280</td>\n      <td>1.0000</td>\n      <td>ns</td>\n      <td>1.11</td>\n      <td>c(\"No\", \"Yes\")</td>\n    </tr>\n    <tr>\n      <th>4</th>\n      <td>Senior</td>\n      <td>C&amp;B</td>\n      <td>Facts</td>\n      <td>Correct</td>\n      <td>No</td>\n      <td>Yes</td>\n      <td>35</td>\n      <td>14</td>\n      <td>231.0</td>\n      <td>0.7630</td>\n      <td>1.0000</td>\n      <td>ns</td>\n      <td>1.01</td>\n      <td>c(\"No\", \"Yes\")</td>\n    </tr>\n    <tr>\n      <th>5</th>\n      <td>Senior</td>\n      <td>P&amp;M&amp;IT</td>\n      <td>Facts</td>\n      <td>Correct</td>\n      <td>No</td>\n      <td>Yes</td>\n      <td>66</td>\n      <td>36</td>\n      <td>973.5</td>\n      <td>0.1320</td>\n      <td>1.0000</td>\n      <td>ns</td>\n      <td>1.11</td>\n      <td>c(\"No\", \"Yes\")</td>\n    </tr>\n    <tr>\n      <th>6</th>\n      <td>Senior</td>\n      <td>Pedagogy</td>\n      <td>Facts</td>\n      <td>Correct</td>\n      <td>No</td>\n      <td>Yes</td>\n      <td>148</td>\n      <td>43</td>\n      <td>2749.0</td>\n      <td>0.1730</td>\n      <td>1.0000</td>\n      <td>ns</td>\n      <td>1.11</td>\n      <td>c(\"No\", \"Yes\")</td>\n    </tr>\n    <tr>\n      <th>7</th>\n      <td>Senior</td>\n      <td>Psychology</td>\n      <td>Facts</td>\n      <td>Correct</td>\n      <td>No</td>\n      <td>Yes</td>\n      <td>69</td>\n      <td>19</td>\n      <td>571.5</td>\n      <td>0.3940</td>\n      <td>1.0000</td>\n      <td>ns</td>\n      <td>1.11</td>\n      <td>c(\"No\", \"Yes\")</td>\n    </tr>\n    <tr>\n      <th>8</th>\n      <td>Intermediate</td>\n      <td>C&amp;B</td>\n      <td>Myths</td>\n      <td>Correct</td>\n      <td>No</td>\n      <td>Yes</td>\n      <td>89</td>\n      <td>33</td>\n      <td>1279.5</td>\n      <td>0.2750</td>\n      <td>1.0000</td>\n      <td>ns</td>\n      <td>0.87</td>\n      <td>c(\"No\", \"Yes\")</td>\n    </tr>\n    <tr>\n      <th>9</th>\n      <td>Intermediate</td>\n      <td>P&amp;M&amp;IT</td>\n      <td>Myths</td>\n      <td>Correct</td>\n      <td>No</td>\n      <td>Yes</td>\n      <td>61</td>\n      <td>22</td>\n      <td>740.0</td>\n      <td>0.4770</td>\n      <td>1.0000</td>\n      <td>ns</td>\n      <td>0.83</td>\n      <td>c(\"No\", \"Yes\")</td>\n    </tr>\n    <tr>\n      <th>10</th>\n      <td>Intermediate</td>\n      <td>Pedagogy</td>\n      <td>Myths</td>\n      <td>Correct</td>\n      <td>No</td>\n      <td>Yes</td>\n      <td>158</td>\n      <td>32</td>\n      <td>2312.5</td>\n      <td>0.4460</td>\n      <td>1.0000</td>\n      <td>ns</td>\n      <td>0.75</td>\n      <td>c(\"No\", \"Yes\")</td>\n    </tr>\n    <tr>\n      <th>11</th>\n      <td>Intermediate</td>\n      <td>Psychology</td>\n      <td>Myths</td>\n      <td>Correct</td>\n      <td>No</td>\n      <td>Yes</td>\n      <td>105</td>\n      <td>24</td>\n      <td>1288.5</td>\n      <td>0.8650</td>\n      <td>1.0000</td>\n      <td>ns</td>\n      <td>1.11</td>\n      <td>c(\"No\", \"Yes\")</td>\n    </tr>\n    <tr>\n      <th>12</th>\n      <td>Senior</td>\n      <td>C&amp;B</td>\n      <td>Myths</td>\n      <td>Correct</td>\n      <td>No</td>\n      <td>Yes</td>\n      <td>35</td>\n      <td>14</td>\n      <td>240.5</td>\n      <td>0.9290</td>\n      <td>1.0000</td>\n      <td>ns</td>\n      <td>0.91</td>\n      <td>c(\"No\", \"Yes\")</td>\n    </tr>\n    <tr>\n      <th>13</th>\n      <td>Senior</td>\n      <td>P&amp;M&amp;IT</td>\n      <td>Myths</td>\n      <td>Correct</td>\n      <td>No</td>\n      <td>Yes</td>\n      <td>66</td>\n      <td>36</td>\n      <td>1314.0</td>\n      <td>0.3750</td>\n      <td>1.0000</td>\n      <td>ns</td>\n      <td>0.83</td>\n      <td>c(\"No\", \"Yes\")</td>\n    </tr>\n    <tr>\n      <th>14</th>\n      <td>Senior</td>\n      <td>Pedagogy</td>\n      <td>Myths</td>\n      <td>Correct</td>\n      <td>No</td>\n      <td>Yes</td>\n      <td>148</td>\n      <td>43</td>\n      <td>3029.0</td>\n      <td>0.6310</td>\n      <td>1.0000</td>\n      <td>ns</td>\n      <td>0.83</td>\n      <td>c(\"No\", \"Yes\")</td>\n    </tr>\n    <tr>\n      <th>15</th>\n      <td>Senior</td>\n      <td>Psychology</td>\n      <td>Myths</td>\n      <td>Correct</td>\n      <td>No</td>\n      <td>Yes</td>\n      <td>69</td>\n      <td>19</td>\n      <td>408.0</td>\n      <td>0.0118</td>\n      <td>0.1888</td>\n      <td>ns</td>\n      <td>0.79</td>\n      <td>c(\"No\", \"Yes\")</td>\n    </tr>\n  </tbody>\n</table>\n</div>"
     },
     "execution_count": 21,
     "metadata": {},
     "output_type": "execute_result"
    }
   ],
   "source": [
    "fdir = \"data/data_processed/stat_results\"\n",
    "f= f'Correct~Reliable.source'\n",
    "prefix = \"GR-Question\"\n",
    "gr= f'{prefix}-Education-Specialization'\n",
    "fname = f\"{fdir}/{f}_{gr}@OUTLIERS_REMOVED@1.1.csv\"\n",
    "pd.read_csv(fname)"
   ],
   "metadata": {
    "collapsed": false
   }
  },
  {
   "cell_type": "code",
   "execution_count": 120,
   "outputs": [
    {
     "data": {
      "text/plain": "'data/data_processed/stat_results/Correct~Specialization_GR-Question-Education@OUTLIERS_REMOVED@1.1.csv'"
     },
     "execution_count": 120,
     "metadata": {},
     "output_type": "execute_result"
    }
   ],
   "source": [
    "fname"
   ],
   "metadata": {
    "collapsed": false
   }
  },
  {
   "cell_type": "code",
   "execution_count": null,
   "outputs": [],
   "source": [],
   "metadata": {
    "collapsed": false
   }
  }
 ],
 "metadata": {
  "kernelspec": {
   "name": "nct",
   "language": "python",
   "display_name": "Python (NCT Lab)"
  },
  "language_info": {
   "codemirror_mode": {
    "name": "ipython",
    "version": 2
   },
   "file_extension": ".py",
   "mimetype": "text/x-python",
   "name": "python",
   "nbconvert_exporter": "python",
   "pygments_lexer": "ipython2",
   "version": "2.7.6"
  }
 },
 "nbformat": 4,
 "nbformat_minor": 0
}
